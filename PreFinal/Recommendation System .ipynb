{
 "cells": [
  {
   "cell_type": "code",
   "execution_count": 1,
   "metadata": {},
   "outputs": [],
   "source": [
    "#IMPORTING NEEDED MODULES THAT INCLUDE PANDAS, SCIPY, SKLEARN, FUZZYWUZZY"
   ]
  },
  {
   "cell_type": "code",
   "execution_count": 2,
   "metadata": {},
   "outputs": [],
   "source": [
    "import pandas as pd, time, gc, os, argparse\n",
    "#TIME TO CALCULATE THE TIME TAKEN TO RECOMMEND"
   ]
  },
  {
   "cell_type": "code",
   "execution_count": 3,
   "metadata": {},
   "outputs": [],
   "source": [
    "from sklearn.neighbors import NearestNeighbors\n",
    "from scipy.sparse import csr_matrix"
   ]
  },
  {
   "cell_type": "code",
   "execution_count": 4,
   "metadata": {},
   "outputs": [],
   "source": [
    "#DEFINE FUNCTIONS"
   ]
  },
  {
   "cell_type": "code",
   "execution_count": 5,
   "metadata": {},
   "outputs": [],
   "source": [
    "import numpy as np\n",
    "def stringdist(s, t,ratio_calc):\n",
    "    rows = len(s)+1\n",
    "    cols = len(t)+1\n",
    "    distance = np.zeros((rows,cols),dtype = int)\n",
    "    for i in range(1, rows):\n",
    "        for k in range(1,cols):\n",
    "            distance[i][0] = i\n",
    "            distance[0][k] = k\n",
    "    for col in range(1, cols):\n",
    "        for row in range(1, rows):\n",
    "            if s[row-1] == t[col-1]:\n",
    "                cost = 0 \n",
    "            else:\n",
    "                if ratio_calc == True:\n",
    "                    cost = 2\n",
    "                else:\n",
    "                    cost = 1                   \n",
    "            distance[row][col] = min(distance[row-1][col] + 1, distance[row][col-1] + 1,distance[row-1][col-1] + cost)\n",
    "    Ratio = ((len(s)+len(t)) - distance[row][col]) / (len(s)+len(t))\n",
    "    return int(Ratio*100)"
   ]
  },
  {
   "cell_type": "code",
   "execution_count": 6,
   "metadata": {},
   "outputs": [],
   "source": [
    "def match(H_MAP, product):\n",
    "    L = []\n",
    "    for name, index in H_MAP.items():\n",
    "        R = stringdist(name.lower(), product.lower(),True)\n",
    "        if R >= 60:\n",
    "            L.append((name, index, R))\n",
    "    L = sorted(L, key = lambda x : x[2])[::-1]\n",
    "    if not L:\n",
    "        return False\n",
    "    else:\n",
    "        return L[0][1]"
   ]
  },
  {
   "cell_type": "code",
   "execution_count": 7,
   "metadata": {},
   "outputs": [],
   "source": [
    "def preprocess():\n",
    "    dataFrameP = pd.read_excel('products.xlsx')\n",
    "    dataFrameR = pd.read_csv('ratings.csv')\n",
    "    no_products = pd.DataFrame(dataFrameR.groupby('productId').size(), columns=['count'])\n",
    "    mostrelatedproduct = list(set(no_products.query('count >= 50').index))\n",
    "    filter_product = dataFrameR.productId.isin(mostrelatedproduct).values\n",
    "    no_users = pd.DataFrame(dataFrameR.groupby('userId').size(), columns=['count'])\n",
    "    trustable_users = list(set(no_users.query('count >= 50').index))\n",
    "    filter_user = dataFrameR.userId.isin(trustable_users).values\n",
    "    dataFrameRF = dataFrameR[filter_product & filter_user]\n",
    "    P_U_MAT = dataFrameRF.pivot(index = 'productId', columns = 'userId', values = 'rating').fillna(0)\n",
    "    H_MAP = {product: i for i, product in enumerate(list(dataFrameP.set_index('productId').loc[P_U_MAT.index].title))}\n",
    "    P_U_SP = csr_matrix(P_U_MAT.values)\n",
    "    del dataFrameP, no_products, no_users\n",
    "    del dataFrameR, dataFrameRF, P_U_MAT\n",
    "    gc.collect()\n",
    "    return P_U_SP, H_MAP"
   ]
  },
  {
   "cell_type": "code",
   "execution_count": null,
   "metadata": {},
   "outputs": [],
   "source": []
  },
  {
   "cell_type": "code",
   "execution_count": 8,
   "metadata": {},
   "outputs": [],
   "source": [
    "def recSystem(product, model, P_U_SP, H_MAP):\n",
    "    model.fit(P_U_SP)\n",
    "    index = match(H_MAP, product)\n",
    "    print('You have searched for : ', product)\n",
    "    print('\\n')\n",
    "    if index == False:\n",
    "        print('Sorry, product not found!')\n",
    "    else:\n",
    "        ans=[]\n",
    "        distances, indices = model.kneighbors(P_U_SP[index], n_neighbors = 11)\n",
    "        rec = sorted(list(zip(indices.squeeze().tolist(), distances.squeeze().tolist())), key = lambda x: x[1])[0:-1]\n",
    "        REV_H_MAP = {val: key for key, val in H_MAP.items()}\n",
    "        for i, (index, dist) in enumerate(rec):\n",
    "            ans.append(REV_H_MAP[index])\n",
    "            #if index in REV_H_MAP: print('{0}: {1}, with distance of {2}'.format(i+1, REV_H_MAP[index], dist))\n",
    "        return ans\n",
    "            "
   ]
  },
  {
   "cell_type": "code",
   "execution_count": 9,
   "metadata": {
    "scrolled": true
   },
   "outputs": [],
   "source": [
    "from time import sleep\n",
    "import sys\n",
    "def runprogram(): \n",
    "    model=NearestNeighbors()\n",
    "    model.set_params(**{'n_neighbors': 20, 'algorithm': 'brute', 'metric': 'cosine', 'n_jobs': -1})\n",
    "    p=str(input())\n",
    "    while (p)!='-1':\n",
    "        P_U_SP, H_MAP = preprocess()\n",
    "        ans=recSystem(p, model, P_U_SP, H_MAP)\n",
    "        for s in ans:\n",
    "            print(s) ; sleep(0.6)\n",
    "        print('\\n')\n",
    "        p=str(input())"
   ]
  },
  {
   "cell_type": "raw",
   "metadata": {},
   "source": []
  },
  {
   "cell_type": "code",
   "execution_count": null,
   "metadata": {},
   "outputs": [
    {
     "name": "stdout",
     "output_type": "stream",
     "text": [
      "Wills Lifestyle Men Black Slim\n",
      "You have searched for :  Wills Lifestyle Men Black Slim\n",
      "\n",
      "\n",
      "Wills Lifestyle Men Black Slim Fit Solid Chinos\n",
      "FOREVER 21 Men Khaki Regular Fit Solid Regular Trousers\n",
      "Allen Solly Men Navy Blue Smart Slim Fit Solid Regular Trousers\n",
      "beevee Men Beige Solid Regular Trousers\n",
      "Van Heusen Sport Men Beige Tapered Fit Solid Chinos\n",
      "Aeropostale Men Khaki Super Skinny Fit Solid Chinos\n",
      "SPYKAR Men Black Slim Fit Solid Regular Trousers\n",
      "The Indian Garage Co Men Teal Blue Slim Fit Camouflage Printed Joggers\n",
      "Breakbounce Olive Green Slim Fit Chino Trousers\n",
      "People Men Beige Regular Fit Solid Regular Trousers\n",
      "\n",
      "\n"
     ]
    }
   ],
   "source": [
    "runprogram()\n"
   ]
  },
  {
   "cell_type": "code",
   "execution_count": null,
   "metadata": {},
   "outputs": [],
   "source": []
  },
  {
   "cell_type": "code",
   "execution_count": null,
   "metadata": {},
   "outputs": [],
   "source": []
  }
 ],
 "metadata": {
  "kernelspec": {
   "display_name": "Python 3",
   "language": "python",
   "name": "python3"
  },
  "language_info": {
   "codemirror_mode": {
    "name": "ipython",
    "version": 3
   },
   "file_extension": ".py",
   "mimetype": "text/x-python",
   "name": "python",
   "nbconvert_exporter": "python",
   "pygments_lexer": "ipython3",
   "version": "3.7.6"
  }
 },
 "nbformat": 4,
 "nbformat_minor": 4
}
